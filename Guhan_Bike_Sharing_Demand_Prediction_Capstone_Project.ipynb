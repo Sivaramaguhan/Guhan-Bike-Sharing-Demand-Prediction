{
  "cells": [
    {
      "cell_type": "markdown",
      "metadata": {
        "id": "tOGC-qoyhJeX"
      },
      "source": [
        "# <b><u> Project Title : Seoul Bike Sharing Demand Prediction </u></b>"
      ]
    },
    {
      "cell_type": "markdown",
      "metadata": {
        "id": "Y06xIdG26kRF"
      },
      "source": [
        "## <b> Problem Description </b>\n",
        "\n",
        "### Currently Rental bikes are introduced in many urban cities for the enhancement of mobility comfort. It is important to make the rental bike available and accessible to the public at the right time as it lessens the waiting time. Eventually, providing the city with a stable supply of rental bikes becomes a major concern. The crucial part is the prediction of bike count required at each hour for the stable supply of rental bikes.\n"
      ]
    },
    {
      "cell_type": "markdown",
      "metadata": {
        "id": "_NDl3L8uCZdV"
      },
      "source": [
        "![images 1.jpg](data:image/jpeg;base64,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)"
      ]
    },
    {
      "cell_type": "markdown",
      "metadata": {
        "id": "AlLxAtlziMbP"
      },
      "source": [
        "## <b> Data Description </b>\n",
        "\n",
        "### <b> The dataset contains weather information (Temperature, Humidity, Windspeed, Visibility, Dewpoint, Solar radiation, Snowfall, Rainfall), the number of bikes rented per hour and date information.</b>\n",
        "\n",
        "\n",
        "### <b>Attribute Information: </b>\n",
        "\n",
        "* ### Date : year-month-day\n",
        "* ### Rented Bike count - Count of bikes rented at each hour\n",
        "* ### Hour - Hour of he day\n",
        "* ### Temperature-Temperature in Celsius\n",
        "* ### Humidity - %\n",
        "* ### Windspeed - m/s\n",
        "* ### Visibility - 10m\n",
        "* ### Dew point temperature - Celsius\n",
        "* ### Solar radiation - MJ/m2\n",
        "* ### Rainfall - mm\n",
        "* ### Snowfall - cm\n",
        "* ### Seasons - Winter, Spring, Summer, Autumn\n",
        "* ### Holiday - Holiday/No holiday\n",
        "* ### Functional Day - NoFunc(Non Functional Hours), Fun(Functional hours)"
      ]
    },
    {
      "cell_type": "code",
      "execution_count": null,
      "metadata": {
        "id": "xzRl7nUs3vWb"
      },
      "outputs": [],
      "source": [
        "+ _  =  -"
      ]
    },
    {
      "cell_type": "markdown",
      "metadata": {
        "id": "qiQF5HZv5Zr8"
      },
      "source": [
        "# **Lets import all the packages needed for the pre processing and machine learning.**"
      ]
    },
    {
      "cell_type": "code",
      "execution_count": 41,
      "metadata": {
        "id": "dByMsuzT8Tnw"
      },
      "outputs": [],
      "source": [
        "#Lets import all the important libraries\n",
        "import numpy as np\n",
        "import pandas as pd\n",
        "import matplotlib.pyplot as plt\n",
        "import seaborn as sns\n",
        "from sklearn.model_selection import train_test_split\n",
        "from sklearn.model_selection import GridSearchCV\n",
        "#to display all the graph in the workbook \n",
        "%matplotlib inline\n",
        "sns.set_style(\"whitegrid\",{'grid.linestyle': '--'})\n",
        "import warnings\n",
        "warnings.filterwarnings(\"ignore\")"
      ]
    },
    {
      "cell_type": "code",
      "execution_count": 42,
      "metadata": {
        "id": "3q93WtW42hwL"
      },
      "outputs": [],
      "source": [
        "path = 'https://raw.githubusercontent.com/Aaryant31/Bike-Sharing-Demand-Prediction/main/SeoulBikeData.csv'"
      ]
    },
    {
      "cell_type": "code",
      "execution_count": 43,
      "metadata": {
        "id": "WJAfZoPm2h9r"
      },
      "outputs": [],
      "source": [
        "#Lets create a dataframe\n",
        "df = pd.read_csv(path, encoding = \"ISO-8859-1\")"
      ]
    },
    {
      "cell_type": "code",
      "execution_count": 44,
      "metadata": {
        "colab": {
          "base_uri": "https://localhost:8080/",
          "height": 392
        },
        "id": "2pp7L4XY2icn",
        "outputId": "381516a8-caba-4da6-e6dc-b1023009b5d2"
      },
      "outputs": [
        {
          "output_type": "execute_result",
          "data": {
            "text/html": [
              "\n",
              "  <div id=\"df-8557f5a4-47e3-4d91-a9d2-e0a8a73520a9\">\n",
              "    <div class=\"colab-df-container\">\n",
              "      <div>\n",
              "<style scoped>\n",
              "    .dataframe tbody tr th:only-of-type {\n",
              "        vertical-align: middle;\n",
              "    }\n",
              "\n",
              "    .dataframe tbody tr th {\n",
              "        vertical-align: top;\n",
              "    }\n",
              "\n",
              "    .dataframe thead th {\n",
              "        text-align: right;\n",
              "    }\n",
              "</style>\n",
              "<table border=\"1\" class=\"dataframe\">\n",
              "  <thead>\n",
              "    <tr style=\"text-align: right;\">\n",
              "      <th></th>\n",
              "      <th>Date</th>\n",
              "      <th>Rented Bike Count</th>\n",
              "      <th>Hour</th>\n",
              "      <th>Temperature(°C)</th>\n",
              "      <th>Humidity(%)</th>\n",
              "      <th>Wind speed (m/s)</th>\n",
              "      <th>Visibility (10m)</th>\n",
              "      <th>Dew point temperature(°C)</th>\n",
              "      <th>Solar Radiation (MJ/m2)</th>\n",
              "      <th>Rainfall(mm)</th>\n",
              "      <th>Snowfall (cm)</th>\n",
              "      <th>Seasons</th>\n",
              "      <th>Holiday</th>\n",
              "      <th>Functioning Day</th>\n",
              "    </tr>\n",
              "  </thead>\n",
              "  <tbody>\n",
              "    <tr>\n",
              "      <th>0</th>\n",
              "      <td>01/12/2017</td>\n",
              "      <td>254</td>\n",
              "      <td>0</td>\n",
              "      <td>-5.2</td>\n",
              "      <td>37</td>\n",
              "      <td>2.2</td>\n",
              "      <td>2000</td>\n",
              "      <td>-17.6</td>\n",
              "      <td>0.0</td>\n",
              "      <td>0.0</td>\n",
              "      <td>0.0</td>\n",
              "      <td>Winter</td>\n",
              "      <td>No Holiday</td>\n",
              "      <td>Yes</td>\n",
              "    </tr>\n",
              "    <tr>\n",
              "      <th>1</th>\n",
              "      <td>01/12/2017</td>\n",
              "      <td>204</td>\n",
              "      <td>1</td>\n",
              "      <td>-5.5</td>\n",
              "      <td>38</td>\n",
              "      <td>0.8</td>\n",
              "      <td>2000</td>\n",
              "      <td>-17.6</td>\n",
              "      <td>0.0</td>\n",
              "      <td>0.0</td>\n",
              "      <td>0.0</td>\n",
              "      <td>Winter</td>\n",
              "      <td>No Holiday</td>\n",
              "      <td>Yes</td>\n",
              "    </tr>\n",
              "    <tr>\n",
              "      <th>2</th>\n",
              "      <td>01/12/2017</td>\n",
              "      <td>173</td>\n",
              "      <td>2</td>\n",
              "      <td>-6.0</td>\n",
              "      <td>39</td>\n",
              "      <td>1.0</td>\n",
              "      <td>2000</td>\n",
              "      <td>-17.7</td>\n",
              "      <td>0.0</td>\n",
              "      <td>0.0</td>\n",
              "      <td>0.0</td>\n",
              "      <td>Winter</td>\n",
              "      <td>No Holiday</td>\n",
              "      <td>Yes</td>\n",
              "    </tr>\n",
              "    <tr>\n",
              "      <th>3</th>\n",
              "      <td>01/12/2017</td>\n",
              "      <td>107</td>\n",
              "      <td>3</td>\n",
              "      <td>-6.2</td>\n",
              "      <td>40</td>\n",
              "      <td>0.9</td>\n",
              "      <td>2000</td>\n",
              "      <td>-17.6</td>\n",
              "      <td>0.0</td>\n",
              "      <td>0.0</td>\n",
              "      <td>0.0</td>\n",
              "      <td>Winter</td>\n",
              "      <td>No Holiday</td>\n",
              "      <td>Yes</td>\n",
              "    </tr>\n",
              "    <tr>\n",
              "      <th>4</th>\n",
              "      <td>01/12/2017</td>\n",
              "      <td>78</td>\n",
              "      <td>4</td>\n",
              "      <td>-6.0</td>\n",
              "      <td>36</td>\n",
              "      <td>2.3</td>\n",
              "      <td>2000</td>\n",
              "      <td>-18.6</td>\n",
              "      <td>0.0</td>\n",
              "      <td>0.0</td>\n",
              "      <td>0.0</td>\n",
              "      <td>Winter</td>\n",
              "      <td>No Holiday</td>\n",
              "      <td>Yes</td>\n",
              "    </tr>\n",
              "  </tbody>\n",
              "</table>\n",
              "</div>\n",
              "      <button class=\"colab-df-convert\" onclick=\"convertToInteractive('df-8557f5a4-47e3-4d91-a9d2-e0a8a73520a9')\"\n",
              "              title=\"Convert this dataframe to an interactive table.\"\n",
              "              style=\"display:none;\">\n",
              "        \n",
              "  <svg xmlns=\"http://www.w3.org/2000/svg\" height=\"24px\"viewBox=\"0 0 24 24\"\n",
              "       width=\"24px\">\n",
              "    <path d=\"M0 0h24v24H0V0z\" fill=\"none\"/>\n",
              "    <path d=\"M18.56 5.44l.94 2.06.94-2.06 2.06-.94-2.06-.94-.94-2.06-.94 2.06-2.06.94zm-11 1L8.5 8.5l.94-2.06 2.06-.94-2.06-.94L8.5 2.5l-.94 2.06-2.06.94zm10 10l.94 2.06.94-2.06 2.06-.94-2.06-.94-.94-2.06-.94 2.06-2.06.94z\"/><path d=\"M17.41 7.96l-1.37-1.37c-.4-.4-.92-.59-1.43-.59-.52 0-1.04.2-1.43.59L10.3 9.45l-7.72 7.72c-.78.78-.78 2.05 0 2.83L4 21.41c.39.39.9.59 1.41.59.51 0 1.02-.2 1.41-.59l7.78-7.78 2.81-2.81c.8-.78.8-2.07 0-2.86zM5.41 20L4 18.59l7.72-7.72 1.47 1.35L5.41 20z\"/>\n",
              "  </svg>\n",
              "      </button>\n",
              "      \n",
              "  <style>\n",
              "    .colab-df-container {\n",
              "      display:flex;\n",
              "      flex-wrap:wrap;\n",
              "      gap: 12px;\n",
              "    }\n",
              "\n",
              "    .colab-df-convert {\n",
              "      background-color: #E8F0FE;\n",
              "      border: none;\n",
              "      border-radius: 50%;\n",
              "      cursor: pointer;\n",
              "      display: none;\n",
              "      fill: #1967D2;\n",
              "      height: 32px;\n",
              "      padding: 0 0 0 0;\n",
              "      width: 32px;\n",
              "    }\n",
              "\n",
              "    .colab-df-convert:hover {\n",
              "      background-color: #E2EBFA;\n",
              "      box-shadow: 0px 1px 2px rgba(60, 64, 67, 0.3), 0px 1px 3px 1px rgba(60, 64, 67, 0.15);\n",
              "      fill: #174EA6;\n",
              "    }\n",
              "\n",
              "    [theme=dark] .colab-df-convert {\n",
              "      background-color: #3B4455;\n",
              "      fill: #D2E3FC;\n",
              "    }\n",
              "\n",
              "    [theme=dark] .colab-df-convert:hover {\n",
              "      background-color: #434B5C;\n",
              "      box-shadow: 0px 1px 3px 1px rgba(0, 0, 0, 0.15);\n",
              "      filter: drop-shadow(0px 1px 2px rgba(0, 0, 0, 0.3));\n",
              "      fill: #FFFFFF;\n",
              "    }\n",
              "  </style>\n",
              "\n",
              "      <script>\n",
              "        const buttonEl =\n",
              "          document.querySelector('#df-8557f5a4-47e3-4d91-a9d2-e0a8a73520a9 button.colab-df-convert');\n",
              "        buttonEl.style.display =\n",
              "          google.colab.kernel.accessAllowed ? 'block' : 'none';\n",
              "\n",
              "        async function convertToInteractive(key) {\n",
              "          const element = document.querySelector('#df-8557f5a4-47e3-4d91-a9d2-e0a8a73520a9');\n",
              "          const dataTable =\n",
              "            await google.colab.kernel.invokeFunction('convertToInteractive',\n",
              "                                                     [key], {});\n",
              "          if (!dataTable) return;\n",
              "\n",
              "          const docLinkHtml = 'Like what you see? Visit the ' +\n",
              "            '<a target=\"_blank\" href=https://colab.research.google.com/notebooks/data_table.ipynb>data table notebook</a>'\n",
              "            + ' to learn more about interactive tables.';\n",
              "          element.innerHTML = '';\n",
              "          dataTable['output_type'] = 'display_data';\n",
              "          await google.colab.output.renderOutput(dataTable, element);\n",
              "          const docLink = document.createElement('div');\n",
              "          docLink.innerHTML = docLinkHtml;\n",
              "          element.appendChild(docLink);\n",
              "        }\n",
              "      </script>\n",
              "    </div>\n",
              "  </div>\n",
              "  "
            ],
            "text/plain": [
              "         Date  Rented Bike Count  Hour  ...  Seasons     Holiday  Functioning Day\n",
              "0  01/12/2017                254     0  ...   Winter  No Holiday              Yes\n",
              "1  01/12/2017                204     1  ...   Winter  No Holiday              Yes\n",
              "2  01/12/2017                173     2  ...   Winter  No Holiday              Yes\n",
              "3  01/12/2017                107     3  ...   Winter  No Holiday              Yes\n",
              "4  01/12/2017                 78     4  ...   Winter  No Holiday              Yes\n",
              "\n",
              "[5 rows x 14 columns]"
            ]
          },
          "metadata": {},
          "execution_count": 44
        }
      ],
      "source": [
        "df.head()"
      ]
    },
    {
      "cell_type": "code",
      "execution_count": 45,
      "metadata": {
        "colab": {
          "base_uri": "https://localhost:8080/",
          "height": 363
        },
        "id": "ccjEr8S_5RBC",
        "outputId": "1e722dfd-41fb-4bd6-d731-4eee46abc00c"
      },
      "outputs": [
        {
          "output_type": "execute_result",
          "data": {
            "text/html": [
              "\n",
              "  <div id=\"df-2595a71d-7321-4182-bd3f-2a04f7cbcb31\">\n",
              "    <div class=\"colab-df-container\">\n",
              "      <div>\n",
              "<style scoped>\n",
              "    .dataframe tbody tr th:only-of-type {\n",
              "        vertical-align: middle;\n",
              "    }\n",
              "\n",
              "    .dataframe tbody tr th {\n",
              "        vertical-align: top;\n",
              "    }\n",
              "\n",
              "    .dataframe thead th {\n",
              "        text-align: right;\n",
              "    }\n",
              "</style>\n",
              "<table border=\"1\" class=\"dataframe\">\n",
              "  <thead>\n",
              "    <tr style=\"text-align: right;\">\n",
              "      <th></th>\n",
              "      <th>count</th>\n",
              "      <th>mean</th>\n",
              "      <th>std</th>\n",
              "      <th>min</th>\n",
              "      <th>25%</th>\n",
              "      <th>50%</th>\n",
              "      <th>75%</th>\n",
              "      <th>max</th>\n",
              "    </tr>\n",
              "  </thead>\n",
              "  <tbody>\n",
              "    <tr>\n",
              "      <th>Rented Bike Count</th>\n",
              "      <td>8760.0</td>\n",
              "      <td>704.602055</td>\n",
              "      <td>644.997468</td>\n",
              "      <td>0.0</td>\n",
              "      <td>191.00</td>\n",
              "      <td>504.50</td>\n",
              "      <td>1065.25</td>\n",
              "      <td>3556.00</td>\n",
              "    </tr>\n",
              "    <tr>\n",
              "      <th>Hour</th>\n",
              "      <td>8760.0</td>\n",
              "      <td>11.500000</td>\n",
              "      <td>6.922582</td>\n",
              "      <td>0.0</td>\n",
              "      <td>5.75</td>\n",
              "      <td>11.50</td>\n",
              "      <td>17.25</td>\n",
              "      <td>23.00</td>\n",
              "    </tr>\n",
              "    <tr>\n",
              "      <th>Temperature(°C)</th>\n",
              "      <td>8760.0</td>\n",
              "      <td>12.882922</td>\n",
              "      <td>11.944825</td>\n",
              "      <td>-17.8</td>\n",
              "      <td>3.50</td>\n",
              "      <td>13.70</td>\n",
              "      <td>22.50</td>\n",
              "      <td>39.40</td>\n",
              "    </tr>\n",
              "    <tr>\n",
              "      <th>Humidity(%)</th>\n",
              "      <td>8760.0</td>\n",
              "      <td>58.226256</td>\n",
              "      <td>20.362413</td>\n",
              "      <td>0.0</td>\n",
              "      <td>42.00</td>\n",
              "      <td>57.00</td>\n",
              "      <td>74.00</td>\n",
              "      <td>98.00</td>\n",
              "    </tr>\n",
              "    <tr>\n",
              "      <th>Wind speed (m/s)</th>\n",
              "      <td>8760.0</td>\n",
              "      <td>1.724909</td>\n",
              "      <td>1.036300</td>\n",
              "      <td>0.0</td>\n",
              "      <td>0.90</td>\n",
              "      <td>1.50</td>\n",
              "      <td>2.30</td>\n",
              "      <td>7.40</td>\n",
              "    </tr>\n",
              "    <tr>\n",
              "      <th>Visibility (10m)</th>\n",
              "      <td>8760.0</td>\n",
              "      <td>1436.825799</td>\n",
              "      <td>608.298712</td>\n",
              "      <td>27.0</td>\n",
              "      <td>940.00</td>\n",
              "      <td>1698.00</td>\n",
              "      <td>2000.00</td>\n",
              "      <td>2000.00</td>\n",
              "    </tr>\n",
              "    <tr>\n",
              "      <th>Dew point temperature(°C)</th>\n",
              "      <td>8760.0</td>\n",
              "      <td>4.073813</td>\n",
              "      <td>13.060369</td>\n",
              "      <td>-30.6</td>\n",
              "      <td>-4.70</td>\n",
              "      <td>5.10</td>\n",
              "      <td>14.80</td>\n",
              "      <td>27.20</td>\n",
              "    </tr>\n",
              "    <tr>\n",
              "      <th>Solar Radiation (MJ/m2)</th>\n",
              "      <td>8760.0</td>\n",
              "      <td>0.569111</td>\n",
              "      <td>0.868746</td>\n",
              "      <td>0.0</td>\n",
              "      <td>0.00</td>\n",
              "      <td>0.01</td>\n",
              "      <td>0.93</td>\n",
              "      <td>3.52</td>\n",
              "    </tr>\n",
              "    <tr>\n",
              "      <th>Rainfall(mm)</th>\n",
              "      <td>8760.0</td>\n",
              "      <td>0.148687</td>\n",
              "      <td>1.128193</td>\n",
              "      <td>0.0</td>\n",
              "      <td>0.00</td>\n",
              "      <td>0.00</td>\n",
              "      <td>0.00</td>\n",
              "      <td>35.00</td>\n",
              "    </tr>\n",
              "    <tr>\n",
              "      <th>Snowfall (cm)</th>\n",
              "      <td>8760.0</td>\n",
              "      <td>0.075068</td>\n",
              "      <td>0.436746</td>\n",
              "      <td>0.0</td>\n",
              "      <td>0.00</td>\n",
              "      <td>0.00</td>\n",
              "      <td>0.00</td>\n",
              "      <td>8.80</td>\n",
              "    </tr>\n",
              "  </tbody>\n",
              "</table>\n",
              "</div>\n",
              "      <button class=\"colab-df-convert\" onclick=\"convertToInteractive('df-2595a71d-7321-4182-bd3f-2a04f7cbcb31')\"\n",
              "              title=\"Convert this dataframe to an interactive table.\"\n",
              "              style=\"display:none;\">\n",
              "        \n",
              "  <svg xmlns=\"http://www.w3.org/2000/svg\" height=\"24px\"viewBox=\"0 0 24 24\"\n",
              "       width=\"24px\">\n",
              "    <path d=\"M0 0h24v24H0V0z\" fill=\"none\"/>\n",
              "    <path d=\"M18.56 5.44l.94 2.06.94-2.06 2.06-.94-2.06-.94-.94-2.06-.94 2.06-2.06.94zm-11 1L8.5 8.5l.94-2.06 2.06-.94-2.06-.94L8.5 2.5l-.94 2.06-2.06.94zm10 10l.94 2.06.94-2.06 2.06-.94-2.06-.94-.94-2.06-.94 2.06-2.06.94z\"/><path d=\"M17.41 7.96l-1.37-1.37c-.4-.4-.92-.59-1.43-.59-.52 0-1.04.2-1.43.59L10.3 9.45l-7.72 7.72c-.78.78-.78 2.05 0 2.83L4 21.41c.39.39.9.59 1.41.59.51 0 1.02-.2 1.41-.59l7.78-7.78 2.81-2.81c.8-.78.8-2.07 0-2.86zM5.41 20L4 18.59l7.72-7.72 1.47 1.35L5.41 20z\"/>\n",
              "  </svg>\n",
              "      </button>\n",
              "      \n",
              "  <style>\n",
              "    .colab-df-container {\n",
              "      display:flex;\n",
              "      flex-wrap:wrap;\n",
              "      gap: 12px;\n",
              "    }\n",
              "\n",
              "    .colab-df-convert {\n",
              "      background-color: #E8F0FE;\n",
              "      border: none;\n",
              "      border-radius: 50%;\n",
              "      cursor: pointer;\n",
              "      display: none;\n",
              "      fill: #1967D2;\n",
              "      height: 32px;\n",
              "      padding: 0 0 0 0;\n",
              "      width: 32px;\n",
              "    }\n",
              "\n",
              "    .colab-df-convert:hover {\n",
              "      background-color: #E2EBFA;\n",
              "      box-shadow: 0px 1px 2px rgba(60, 64, 67, 0.3), 0px 1px 3px 1px rgba(60, 64, 67, 0.15);\n",
              "      fill: #174EA6;\n",
              "    }\n",
              "\n",
              "    [theme=dark] .colab-df-convert {\n",
              "      background-color: #3B4455;\n",
              "      fill: #D2E3FC;\n",
              "    }\n",
              "\n",
              "    [theme=dark] .colab-df-convert:hover {\n",
              "      background-color: #434B5C;\n",
              "      box-shadow: 0px 1px 3px 1px rgba(0, 0, 0, 0.15);\n",
              "      filter: drop-shadow(0px 1px 2px rgba(0, 0, 0, 0.3));\n",
              "      fill: #FFFFFF;\n",
              "    }\n",
              "  </style>\n",
              "\n",
              "      <script>\n",
              "        const buttonEl =\n",
              "          document.querySelector('#df-2595a71d-7321-4182-bd3f-2a04f7cbcb31 button.colab-df-convert');\n",
              "        buttonEl.style.display =\n",
              "          google.colab.kernel.accessAllowed ? 'block' : 'none';\n",
              "\n",
              "        async function convertToInteractive(key) {\n",
              "          const element = document.querySelector('#df-2595a71d-7321-4182-bd3f-2a04f7cbcb31');\n",
              "          const dataTable =\n",
              "            await google.colab.kernel.invokeFunction('convertToInteractive',\n",
              "                                                     [key], {});\n",
              "          if (!dataTable) return;\n",
              "\n",
              "          const docLinkHtml = 'Like what you see? Visit the ' +\n",
              "            '<a target=\"_blank\" href=https://colab.research.google.com/notebooks/data_table.ipynb>data table notebook</a>'\n",
              "            + ' to learn more about interactive tables.';\n",
              "          element.innerHTML = '';\n",
              "          dataTable['output_type'] = 'display_data';\n",
              "          await google.colab.output.renderOutput(dataTable, element);\n",
              "          const docLink = document.createElement('div');\n",
              "          docLink.innerHTML = docLinkHtml;\n",
              "          element.appendChild(docLink);\n",
              "        }\n",
              "      </script>\n",
              "    </div>\n",
              "  </div>\n",
              "  "
            ],
            "text/plain": [
              "                            count         mean  ...      75%      max\n",
              "Rented Bike Count          8760.0   704.602055  ...  1065.25  3556.00\n",
              "Hour                       8760.0    11.500000  ...    17.25    23.00\n",
              "Temperature(°C)            8760.0    12.882922  ...    22.50    39.40\n",
              "Humidity(%)                8760.0    58.226256  ...    74.00    98.00\n",
              "Wind speed (m/s)           8760.0     1.724909  ...     2.30     7.40\n",
              "Visibility (10m)           8760.0  1436.825799  ...  2000.00  2000.00\n",
              "Dew point temperature(°C)  8760.0     4.073813  ...    14.80    27.20\n",
              "Solar Radiation (MJ/m2)    8760.0     0.569111  ...     0.93     3.52\n",
              "Rainfall(mm)               8760.0     0.148687  ...     0.00    35.00\n",
              "Snowfall (cm)              8760.0     0.075068  ...     0.00     8.80\n",
              "\n",
              "[10 rows x 8 columns]"
            ]
          },
          "metadata": {},
          "execution_count": 45
        }
      ],
      "source": [
        "#Collect the basic statistical information about the dataset by using transpose function we get the clear view of the information\n",
        "df.describe().transpose()"
      ]
    },
    {
      "cell_type": "code",
      "execution_count": 46,
      "metadata": {
        "colab": {
          "base_uri": "https://localhost:8080/"
        },
        "id": "yRTacH4u6BRU",
        "outputId": "1d9b1ce6-8c5f-43e8-ddae-61d589e433e6"
      },
      "outputs": [
        {
          "output_type": "execute_result",
          "data": {
            "text/plain": [
              "(8760, 14)"
            ]
          },
          "metadata": {},
          "execution_count": 46
        }
      ],
      "source": [
        "#Checking for the shape of the dataset\n",
        "df.shape"
      ]
    },
    {
      "cell_type": "code",
      "execution_count": 47,
      "metadata": {
        "colab": {
          "base_uri": "https://localhost:8080/"
        },
        "id": "9FGJ1uTo5RLB",
        "outputId": "8967a3b8-c87e-4f8e-cdc6-e71a0ca74fb5"
      },
      "outputs": [
        {
          "output_type": "stream",
          "name": "stdout",
          "text": [
            "<class 'pandas.core.frame.DataFrame'>\n",
            "RangeIndex: 8760 entries, 0 to 8759\n",
            "Data columns (total 14 columns):\n",
            " #   Column                     Non-Null Count  Dtype  \n",
            "---  ------                     --------------  -----  \n",
            " 0   Date                       8760 non-null   object \n",
            " 1   Rented Bike Count          8760 non-null   int64  \n",
            " 2   Hour                       8760 non-null   int64  \n",
            " 3   Temperature(°C)            8760 non-null   float64\n",
            " 4   Humidity(%)                8760 non-null   int64  \n",
            " 5   Wind speed (m/s)           8760 non-null   float64\n",
            " 6   Visibility (10m)           8760 non-null   int64  \n",
            " 7   Dew point temperature(°C)  8760 non-null   float64\n",
            " 8   Solar Radiation (MJ/m2)    8760 non-null   float64\n",
            " 9   Rainfall(mm)               8760 non-null   float64\n",
            " 10  Snowfall (cm)              8760 non-null   float64\n",
            " 11  Seasons                    8760 non-null   object \n",
            " 12  Holiday                    8760 non-null   object \n",
            " 13  Functioning Day            8760 non-null   object \n",
            "dtypes: float64(6), int64(4), object(4)\n",
            "memory usage: 958.2+ KB\n"
          ]
        }
      ],
      "source": [
        "#checking info of data\n",
        "df.info()"
      ]
    },
    {
      "cell_type": "markdown",
      "metadata": {
        "id": "Ie8Y0tkA67Us"
      },
      "source": [
        "# **Checking for the missing values**"
      ]
    },
    {
      "cell_type": "code",
      "execution_count": 48,
      "metadata": {
        "colab": {
          "base_uri": "https://localhost:8080/"
        },
        "id": "EeQnIO-P5RRd",
        "outputId": "cd411c19-446f-44de-db62-9a753d5f6e65"
      },
      "outputs": [
        {
          "output_type": "execute_result",
          "data": {
            "text/plain": [
              "Date                         0\n",
              "Rented Bike Count            0\n",
              "Hour                         0\n",
              "Temperature(°C)              0\n",
              "Humidity(%)                  0\n",
              "Wind speed (m/s)             0\n",
              "Visibility (10m)             0\n",
              "Dew point temperature(°C)    0\n",
              "Solar Radiation (MJ/m2)      0\n",
              "Rainfall(mm)                 0\n",
              "Snowfall (cm)                0\n",
              "Seasons                      0\n",
              "Holiday                      0\n",
              "Functioning Day              0\n",
              "dtype: int64"
            ]
          },
          "metadata": {},
          "execution_count": 48
        }
      ],
      "source": [
        "#Checking for Null values in the dataset\n",
        "df.isna().sum()"
      ]
    },
    {
      "cell_type": "code",
      "execution_count": 49,
      "metadata": {
        "colab": {
          "base_uri": "https://localhost:8080/"
        },
        "id": "-zksdQwn7s-0",
        "outputId": "a4a23935-a914-4a5e-e2c6-5f282b7d7fc9"
      },
      "outputs": [
        {
          "output_type": "execute_result",
          "data": {
            "text/plain": [
              "Date                         0\n",
              "Rented Bike Count            0\n",
              "Hour                         0\n",
              "Temperature(°C)              0\n",
              "Humidity(%)                  0\n",
              "Wind speed (m/s)             0\n",
              "Visibility (10m)             0\n",
              "Dew point temperature(°C)    0\n",
              "Solar Radiation (MJ/m2)      0\n",
              "Rainfall(mm)                 0\n",
              "Snowfall (cm)                0\n",
              "Seasons                      0\n",
              "Holiday                      0\n",
              "Functioning Day              0\n",
              "dtype: int64"
            ]
          },
          "metadata": {},
          "execution_count": 49
        }
      ],
      "source": [
        "df.isnull().sum()"
      ]
    },
    {
      "cell_type": "markdown",
      "metadata": {
        "id": "cvRD8aTm8KW7"
      },
      "source": [
        "Surprisingly,We didn't have any of the missing and null values in the dataset.So,there is no needed for the null value treatment in the dataset"
      ]
    },
    {
      "cell_type": "code",
      "execution_count": 50,
      "metadata": {
        "id": "LN9c9MRWLzoj"
      },
      "outputs": [],
      "source": [
        "#converting date columns to Date format\n",
        "df['Date']= pd.to_datetime(df['Date'])"
      ]
    },
    {
      "cell_type": "code",
      "execution_count": 51,
      "metadata": {
        "id": "qXFmbNH1Lzi9"
      },
      "outputs": [],
      "source": [
        "# extracting day,month, day of week and weekdays/weekend from date column\n",
        "df['Date']=pd.to_datetime(df['Date'])\n",
        "df['month'] = df['Date'].apply(lambda x : x.month)\n",
        "df['day_of_week'] = df['Date'].dt.day_name()\n",
        "df['weekdays_weekend']=df['day_of_week'].apply(lambda x : 1 if x=='Saturday' or x=='Sunday' else 0 )\n",
        "df=df.drop(columns=['Date','day_of_week'],axis=1)"
      ]
    },
    {
      "cell_type": "code",
      "execution_count": 52,
      "metadata": {
        "colab": {
          "base_uri": "https://localhost:8080/",
          "height": 739
        },
        "id": "fePakQFKLzaD",
        "outputId": "13b90751-83a7-47ad-81a5-30e9445a7819"
      },
      "outputs": [
        {
          "output_type": "execute_result",
          "data": {
            "text/plain": [
              "<matplotlib.axes._subplots.AxesSubplot at 0x7f26b5f3b550>"
            ]
          },
          "metadata": {},
          "execution_count": 52
        },
        {
          "output_type": "display_data",
          "data": {
            "image/png": "[encoded data removed]",
            "text/plain": [
              "<Figure size 1080x720 with 2 Axes>"
            ]
          },
          "metadata": {}
        }
      ],
      "source": [
        "#checking correlation with the help of heatmap\n",
        "plt.figure(figsize=(15,10))\n",
        "sns.heatmap(df.corr(),cmap='coolwarm',annot=True)"
      ]
    },
    {
      "cell_type": "code",
      "execution_count": 53,
      "metadata": {
        "id": "hazc9sX9Ffdj"
      },
      "outputs": [],
      "source": [
        "#Multicollinearity\n",
        "from statsmodels.stats.outliers_influence import variance_inflation_factor\n",
        "def calc_vif(X):\n",
        " \n",
        "   # Calculating VIF\n",
        "   vif = pd.DataFrame()\n",
        "   vif[\"variables\"] = X.columns\n",
        "   vif[\"VIF\"] = [variance_inflation_factor(X.values, i) for i in range(X.shape[1])]\n",
        " \n",
        "   return(vif)"
      ]
    },
    {
      "cell_type": "code",
      "execution_count": 54,
      "metadata": {
        "colab": {
          "base_uri": "https://localhost:8080/",
          "height": 363
        },
        "id": "fxGmU-V6FHRc",
        "outputId": "0a2553b5-a8e8-4b5e-b584-9d05cbc0995e"
      },
      "outputs": [
        {
          "output_type": "execute_result",
          "data": {
            "text/html": [
              "\n",
              "  <div id=\"df-1bceb736-c5ff-4d0b-8a9a-38c79f7f31ae\">\n",
              "    <div class=\"colab-df-container\">\n",
              "      <div>\n",
              "<style scoped>\n",
              "    .dataframe tbody tr th:only-of-type {\n",
              "        vertical-align: middle;\n",
              "    }\n",
              "\n",
              "    .dataframe tbody tr th {\n",
              "        vertical-align: top;\n",
              "    }\n",
              "\n",
              "    .dataframe thead th {\n",
              "        text-align: right;\n",
              "    }\n",
              "</style>\n",
              "<table border=\"1\" class=\"dataframe\">\n",
              "  <thead>\n",
              "    <tr style=\"text-align: right;\">\n",
              "      <th></th>\n",
              "      <th>variables</th>\n",
              "      <th>VIF</th>\n",
              "    </tr>\n",
              "  </thead>\n",
              "  <tbody>\n",
              "    <tr>\n",
              "      <th>0</th>\n",
              "      <td>Hour</td>\n",
              "      <td>3.961874</td>\n",
              "    </tr>\n",
              "    <tr>\n",
              "      <th>1</th>\n",
              "      <td>Temperature(°C)</td>\n",
              "      <td>3.236809</td>\n",
              "    </tr>\n",
              "    <tr>\n",
              "      <th>2</th>\n",
              "      <td>Humidity(%)</td>\n",
              "      <td>6.114153</td>\n",
              "    </tr>\n",
              "    <tr>\n",
              "      <th>3</th>\n",
              "      <td>Wind speed (m/s)</td>\n",
              "      <td>4.616621</td>\n",
              "    </tr>\n",
              "    <tr>\n",
              "      <th>4</th>\n",
              "      <td>Visibility (10m)</td>\n",
              "      <td>5.404128</td>\n",
              "    </tr>\n",
              "    <tr>\n",
              "      <th>5</th>\n",
              "      <td>Solar Radiation (MJ/m2)</td>\n",
              "      <td>2.272068</td>\n",
              "    </tr>\n",
              "    <tr>\n",
              "      <th>6</th>\n",
              "      <td>Rainfall(mm)</td>\n",
              "      <td>1.081252</td>\n",
              "    </tr>\n",
              "    <tr>\n",
              "      <th>7</th>\n",
              "      <td>Snowfall (cm)</td>\n",
              "      <td>1.125304</td>\n",
              "    </tr>\n",
              "    <tr>\n",
              "      <th>8</th>\n",
              "      <td>month</td>\n",
              "      <td>4.580307</td>\n",
              "    </tr>\n",
              "    <tr>\n",
              "      <th>9</th>\n",
              "      <td>weekdays_weekend</td>\n",
              "      <td>1.399708</td>\n",
              "    </tr>\n",
              "  </tbody>\n",
              "</table>\n",
              "</div>\n",
              "      <button class=\"colab-df-convert\" onclick=\"convertToInteractive('df-1bceb736-c5ff-4d0b-8a9a-38c79f7f31ae')\"\n",
              "              title=\"Convert this dataframe to an interactive table.\"\n",
              "              style=\"display:none;\">\n",
              "        \n",
              "  <svg xmlns=\"http://www.w3.org/2000/svg\" height=\"24px\"viewBox=\"0 0 24 24\"\n",
              "       width=\"24px\">\n",
              "    <path d=\"M0 0h24v24H0V0z\" fill=\"none\"/>\n",
              "    <path d=\"M18.56 5.44l.94 2.06.94-2.06 2.06-.94-2.06-.94-.94-2.06-.94 2.06-2.06.94zm-11 1L8.5 8.5l.94-2.06 2.06-.94-2.06-.94L8.5 2.5l-.94 2.06-2.06.94zm10 10l.94 2.06.94-2.06 2.06-.94-2.06-.94-.94-2.06-.94 2.06-2.06.94z\"/><path d=\"M17.41 7.96l-1.37-1.37c-.4-.4-.92-.59-1.43-.59-.52 0-1.04.2-1.43.59L10.3 9.45l-7.72 7.72c-.78.78-.78 2.05 0 2.83L4 21.41c.39.39.9.59 1.41.59.51 0 1.02-.2 1.41-.59l7.78-7.78 2.81-2.81c.8-.78.8-2.07 0-2.86zM5.41 20L4 18.59l7.72-7.72 1.47 1.35L5.41 20z\"/>\n",
              "  </svg>\n",
              "      </button>\n",
              "      \n",
              "  <style>\n",
              "    .colab-df-container {\n",
              "      display:flex;\n",
              "      flex-wrap:wrap;\n",
              "      gap: 12px;\n",
              "    }\n",
              "\n",
              "    .colab-df-convert {\n",
              "      background-color: #E8F0FE;\n",
              "      border: none;\n",
              "      border-radius: 50%;\n",
              "      cursor: pointer;\n",
              "      display: none;\n",
              "      fill: #1967D2;\n",
              "      height: 32px;\n",
              "      padding: 0 0 0 0;\n",
              "      width: 32px;\n",
              "    }\n",
              "\n",
              "    .colab-df-convert:hover {\n",
              "      background-color: #E2EBFA;\n",
              "      box-shadow: 0px 1px 2px rgba(60, 64, 67, 0.3), 0px 1px 3px 1px rgba(60, 64, 67, 0.15);\n",
              "      fill: #174EA6;\n",
              "    }\n",
              "\n",
              "    [theme=dark] .colab-df-convert {\n",
              "      background-color: #3B4455;\n",
              "      fill: #D2E3FC;\n",
              "    }\n",
              "\n",
              "    [theme=dark] .colab-df-convert:hover {\n",
              "      background-color: #434B5C;\n",
              "      box-shadow: 0px 1px 3px 1px rgba(0, 0, 0, 0.15);\n",
              "      filter: drop-shadow(0px 1px 2px rgba(0, 0, 0, 0.3));\n",
              "      fill: #FFFFFF;\n",
              "    }\n",
              "  </style>\n",
              "\n",
              "      <script>\n",
              "        const buttonEl =\n",
              "          document.querySelector('#df-1bceb736-c5ff-4d0b-8a9a-38c79f7f31ae button.colab-df-convert');\n",
              "        buttonEl.style.display =\n",
              "          google.colab.kernel.accessAllowed ? 'block' : 'none';\n",
              "\n",
              "        async function convertToInteractive(key) {\n",
              "          const element = document.querySelector('#df-1bceb736-c5ff-4d0b-8a9a-38c79f7f31ae');\n",
              "          const dataTable =\n",
              "            await google.colab.kernel.invokeFunction('convertToInteractive',\n",
              "                                                     [key], {});\n",
              "          if (!dataTable) return;\n",
              "\n",
              "          const docLinkHtml = 'Like what you see? Visit the ' +\n",
              "            '<a target=\"_blank\" href=https://colab.research.google.com/notebooks/data_table.ipynb>data table notebook</a>'\n",
              "            + ' to learn more about interactive tables.';\n",
              "          element.innerHTML = '';\n",
              "          dataTable['output_type'] = 'display_data';\n",
              "          await google.colab.output.renderOutput(dataTable, element);\n",
              "          const docLink = document.createElement('div');\n",
              "          docLink.innerHTML = docLinkHtml;\n",
              "          element.appendChild(docLink);\n",
              "        }\n",
              "      </script>\n",
              "    </div>\n",
              "  </div>\n",
              "  "
            ],
            "text/plain": [
              "                 variables       VIF\n",
              "0                     Hour  3.961874\n",
              "1          Temperature(°C)  3.236809\n",
              "2              Humidity(%)  6.114153\n",
              "3         Wind speed (m/s)  4.616621\n",
              "4         Visibility (10m)  5.404128\n",
              "5  Solar Radiation (MJ/m2)  2.272068\n",
              "6             Rainfall(mm)  1.081252\n",
              "7            Snowfall (cm)  1.125304\n",
              "8                    month  4.580307\n",
              "9         weekdays_weekend  1.399708"
            ]
          },
          "metadata": {},
          "execution_count": 54
        }
      ],
      "source": [
        "calc_vif(df[[i for i in df.describe().columns if i not in ['Rented Bike Count','Dew point temperature(°C)'] ]])"
      ]
    },
    {
      "cell_type": "code",
      "execution_count": 55,
      "metadata": {
        "colab": {
          "base_uri": "https://localhost:8080/",
          "height": 297
        },
        "id": "rnIezu3hLzN5",
        "outputId": "ddcce61e-971d-4239-84f8-2a95f6c58a6c"
      },
      "outputs": [
        {
          "output_type": "execute_result",
          "data": {
            "text/plain": [
              "<matplotlib.axes._subplots.AxesSubplot at 0x7f26b3623e10>"
            ]
          },
          "metadata": {},
          "execution_count": 55
        },
        {
          "output_type": "display_data",
          "data": {
            "image/png": "[encoded data removed]",
            "text/plain": [
              "<Figure size 432x288 with 1 Axes>"
            ]
          },
          "metadata": {}
        }
      ],
      "source": [
        "sns.distplot(df['Rented Bike Count'])"
      ]
    },
    {
      "cell_type": "markdown",
      "metadata": {
        "id": "hk4eIXo6Qa6q"
      },
      "source": [
        "\n",
        "\n",
        "Conclusion\n",
        "\n",
        "    Less demand on winter seasons\n",
        "    Sligthly Higher demand during Non holidays\n",
        "    Almost no demnad on non functioning day\n",
        "\n"
      ]
    },
    {
      "cell_type": "code",
      "execution_count": null,
      "metadata": {
        "id": "yrzPu8lEXmdH"
      },
      "outputs": [],
      "source": [
        ""
      ]
    }
  ],
  "metadata": {
    "colab": {
      "collapsed_sections": [],
      "name": "Guhan Bike Sharing Demand Prediction - Capstone Project.ipynb",
      "provenance": []
    },
    "kernelspec": {
      "display_name": "Python 3",
      "language": "python",
      "name": "python3"
    },
    "language_info": {
      "codemirror_mode": {
        "name": "ipython",
        "version": 3
      },
      "file_extension": ".py",
      "mimetype": "text/x-python",
      "name": "python",
      "nbconvert_exporter": "python",
      "pygments_lexer": "ipython3",
      "version": "3.6.6"
    }
  },
  "nbformat": 4,
  "nbformat_minor": 0
}